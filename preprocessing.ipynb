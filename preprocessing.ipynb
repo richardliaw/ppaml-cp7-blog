{
 "cells": [
  {
   "cell_type": "markdown",
   "metadata": {},
   "source": [
    "### PPAML Challenge Problem 7"
   ]
  },
  {
   "cell_type": "markdown",
   "metadata": {},
   "source": [
    "Tony Duan, Yi Wu, Nishant Desai<br />\n",
    "University of California, Berkeley\n",
    "\n",
    "Submission May 2016 for BLOG by Prof. Stuart Russell's group."
   ]
  },
  {
   "cell_type": "markdown",
   "metadata": {},
   "source": [
    "#### Flu spread model"
   ]
  },
  {
   "cell_type": "markdown",
   "metadata": {},
   "source": [
    "<img src=\"images/gmrf.png\" />"
   ]
  },
  {
   "cell_type": "markdown",
   "metadata": {},
   "source": [
    "<img src=\"images/adjacency.png\" />"
   ]
  },
  {
   "cell_type": "markdown",
   "metadata": {},
   "source": [
    "<img src=\"images/model.png\" />"
   ]
  },
  {
   "cell_type": "code",
   "execution_count": 13,
   "metadata": {
    "collapsed": false
   },
   "outputs": [],
   "source": [
    "import functools\n",
    "import json\n",
    "import numpy as np\n",
    "import pandas as pd\n",
    "\n",
    "from collections import defaultdict"
   ]
  },
  {
   "cell_type": "code",
   "execution_count": 14,
   "metadata": {
    "collapsed": true
   },
   "outputs": [],
   "source": [
    "TRAINING_SIZE = 'Small'"
   ]
  },
  {
   "cell_type": "markdown",
   "metadata": {},
   "source": [
    "#### Step 1. Load the data.\n",
    "\n",
    "Need to make sure to load from the right training data size."
   ]
  },
  {
   "cell_type": "code",
   "execution_count": 15,
   "metadata": {
    "collapsed": false
   },
   "outputs": [],
   "source": [
    "ili_data            = pd.read_csv(\"data/%s/input/Flu_ILI.csv\" % TRAINING_SIZE)\n",
    "tweets_data         = json.load(open(\"data/%s/input/Flu_Vacc_Tweet_TRAIN.json\" % TRAINING_SIZE))\n",
    "states              = json.load(open(\"data/%s/input/StateInfo.json\" % TRAINING_SIZE))\n",
    "regions_to_counties = json.load(open(\"data/%s/input/Region2CountyMap.json\" % TRAINING_SIZE))\n",
    "county_adjacency    = json.load(open(\"data/%s/input/county_adjacency_lower48.json\" % TRAINING_SIZE))"
   ]
  },
  {
   "cell_type": "markdown",
   "metadata": {},
   "source": [
    "#### Step 2. List the dates.\n",
    "\n",
    "It's important that the dates are in chronological order.<br/>\n",
    "The index of the event is important for writing observations."
   ]
  },
  {
   "cell_type": "code",
   "execution_count": 16,
   "metadata": {
    "collapsed": false
   },
   "outputs": [],
   "source": [
    "dates = ['08/10/2013', '08/17/2013', '08/24/2013', '08/31/2013', '09/07/2013', '09/14/2013', '09/21/2013',\n",
    "         '09/28/2013', '10/05/2013', '10/12/2013', '10/19/2013', '10/26/2013', '11/02/2013', '11/09/2013',\n",
    "         '11/16/2013', '11/23/2013', '11/30/2013', '12/07/2013', '12/14/2013', '12/21/2013', '12/28/2013',\n",
    "         '01/04/2014', '01/11/2014', '01/18/2014', '01/25/2014', '02/01/2014', '02/08/2014', '02/15/2014',\n",
    "         '02/22/2014', '03/01/2014', '03/08/2014', '03/15/2014', '03/22/2014', '03/29/2014', '04/05/2014',\n",
    "         '04/12/2014', '04/19/2014', '04/26/2014', '05/03/2014', '05/10/2014', '05/17/2014', '05/24/2014',\n",
    "         '05/31/2014', '06/07/2014', '06/14/2014', '06/21/2014', '06/28/2014', '07/05/2014', '07/12/2014',\n",
    "         '07/19/2014', '07/26/2014', '08/02/2014']"
   ]
  },
  {
   "cell_type": "code",
   "execution_count": 17,
   "metadata": {
    "collapsed": false
   },
   "outputs": [
    {
     "name": "stdout",
     "output_type": "stream",
     "text": [
      "Number of dates: 52\n"
     ]
    }
   ],
   "source": [
    "print(\"Number of dates:\", len(dates))"
   ]
  },
  {
   "cell_type": "markdown",
   "metadata": {},
   "source": [
    "#### Step 3. Compute county statistics.\n",
    "\n",
    "We need to compute *covariates* and *population* for each county.\n",
    "\n",
    "$$\\begin{align}\n",
    "    N_c & = \\texttt{ loaded from data }\\\\\n",
    "    X_{c,t} & = \\begin{bmatrix} \n",
    "                    \\log{(\\frac{S_{c,t} + \\epsilon_2}{\\tilde{N}_c})} & \n",
    "                    \\log{(\\frac{V_{c,t} + \\epsilon_3}{1-V_{c,t}+\\epsilon_3})} \n",
    "                \\end{bmatrix}^T\\\\\n",
    "\\end{align}$$\n",
    "\n",
    "Where \n",
    "$$\\begin{align}\n",
    "    \\epsilon_2 & = 0.1\\\\\n",
    "    \\epsilon_3 & = 0.001\\\\\n",
    "\\end{align}$$\n",
    "\n",
    "The covariate matrices should be of size $n$ by $d$.<br />\n",
    "The population vector should be of size $n$ by $1$.\n",
    "\n",
    "<br />\n",
    "*Todo*: fix hacky solution to demographics-adjusted Twitter population."
   ]
  },
  {
   "cell_type": "code",
   "execution_count": 18,
   "metadata": {
    "collapsed": false
   },
   "outputs": [],
   "source": [
    "fips_to_cov1 = defaultdict(list)\n",
    "fips_to_cov2 = defaultdict(list)\n",
    "fips_to_pop = {}"
   ]
  },
  {
   "cell_type": "code",
   "execution_count": 19,
   "metadata": {
    "collapsed": false
   },
   "outputs": [],
   "source": [
    "for fips_code, blob in tweets_data.items():\n",
    "    \n",
    "    if not 'Vaccination percentage %' in blob.keys():\n",
    "        continue\n",
    "        \n",
    "    for date in dates:\n",
    "    \n",
    "        cov1 = np.log((blob['No. of Tweets'][date] + 0.1) / blob['Population, 2014 estimate'] * 1000) \n",
    "        cov2 = np.log((blob['Vaccination percentage %'][date] / 100 + 0.001) / \n",
    "                      (1-blob['Vaccination percentage %'][date] / 100 + 0.001))\n",
    "        \n",
    "        fips_to_cov1[fips_code].append(cov1)\n",
    "        fips_to_cov2[fips_code].append(cov2)\n",
    "        \n",
    "    fips_to_pop[fips_code] = blob['Population, 2014 estimate']"
   ]
  },
  {
   "cell_type": "markdown",
   "metadata": {},
   "source": [
    "#### Step 4. Construct sets of regions and counties.\n",
    "\n",
    "We extract regions and counties for *only* the relevant counties from the training data.<br />"
   ]
  },
  {
   "cell_type": "code",
   "execution_count": 20,
   "metadata": {
    "collapsed": false
   },
   "outputs": [],
   "source": [
    "regions = set()\n",
    "for i, col in enumerate(ili_data.columns):\n",
    "    if i > 3:\n",
    "        regions.add(col)"
   ]
  },
  {
   "cell_type": "code",
   "execution_count": 21,
   "metadata": {
    "collapsed": true
   },
   "outputs": [],
   "source": [
    "counties = set()\n",
    "for r in regions:\n",
    "    counties = counties.union(set(regions_to_counties[r].keys()))"
   ]
  },
  {
   "cell_type": "code",
   "execution_count": 22,
   "metadata": {
    "collapsed": false
   },
   "outputs": [
    {
     "name": "stdout",
     "output_type": "stream",
     "text": [
      "Number of regions: 9\n",
      "Number of counties: 82\n"
     ]
    }
   ],
   "source": [
    "print('Number of regions:', len(regions))\n",
    "print('Number of counties:', len(counties))"
   ]
  },
  {
   "cell_type": "markdown",
   "metadata": {},
   "source": [
    "#### Step 5. Save county data.\n",
    "\n",
    "Note: we assign an index to each county (somewhat arbitrarily).\n",
    "\n",
    "We also create (and make sure to use) the following dictionaries:\n",
    "- index_to_county\n",
    "- county_to_index"
   ]
  },
  {
   "cell_type": "code",
   "execution_count": 23,
   "metadata": {
    "collapsed": true
   },
   "outputs": [],
   "source": [
    "county_to_index = {}\n",
    "for i, fips in enumerate(counties):\n",
    "    county_to_index[fips] = i\n",
    "index_to_county = {v: k for k, v in county_to_index.items()}"
   ]
  },
  {
   "cell_type": "code",
   "execution_count": 24,
   "metadata": {
    "collapsed": false
   },
   "outputs": [],
   "source": [
    "county_pop_matrix = []\n",
    "cov1_matrix = []\n",
    "cov2_matrix = []\n",
    "\n",
    "for i, fips in index_to_county.items():\n",
    "    county_pop_matrix.append(fips_to_pop[fips])\n",
    "    cov1_matrix.append(fips_to_cov1[fips])\n",
    "    cov2_matrix.append(fips_to_cov2[fips])\n",
    "\n",
    "county_pop_matrix = np.array(county_pop_matrix)\n",
    "cov1_matrix = np.array(cov1_matrix)\n",
    "cov2_matrix = np.array(cov2_matrix)\n",
    "    \n",
    "np.savetxt('data_processed/county_pops.txt', county_pop_matrix)\n",
    "np.savetxt('data_processed/covariates1.txt', cov1_matrix)\n",
    "np.savetxt('data_processed/covariates2.txt', cov2_matrix)"
   ]
  },
  {
   "cell_type": "code",
   "execution_count": 25,
   "metadata": {
    "collapsed": false
   },
   "outputs": [
    {
     "name": "stdout",
     "output_type": "stream",
     "text": [
      "(82, 52)\n",
      "(82, 52)\n",
      "(82,)\n"
     ]
    }
   ],
   "source": [
    "print(cov1_matrix.shape)\n",
    "print(cov2_matrix.shape)\n",
    "print(county_pop_matrix.shape)"
   ]
  },
  {
   "cell_type": "markdown",
   "metadata": {},
   "source": [
    "**Step 6. Map regions to counties.**\n",
    "\n",
    "We construct a resulting matrix $A$ that contains\n",
    "$$A_{i,j} = \\begin{cases} 1 & \\mbox{if region } i \\mbox{ contains county } j\\\\\n",
    "                          0 & \\mbox{otherwise}  \\end{cases}$$\n",
    "                                               \n",
    "Also calculate the region population by\n",
    "$$N_r = \\sum_{c \\in r} N_c$$\n",
    "\n",
    "The resulting matrix should be of size $m$ by $n$."
   ]
  },
  {
   "cell_type": "code",
   "execution_count": 26,
   "metadata": {
    "collapsed": true
   },
   "outputs": [],
   "source": [
    "region_to_index = {}\n",
    "for i, r in enumerate(regions):\n",
    "    region_to_index[r] = i\n",
    "index_to_region = {v: k for k, v in region_to_index.items()}"
   ]
  },
  {
   "cell_type": "code",
   "execution_count": 27,
   "metadata": {
    "collapsed": false,
    "scrolled": false
   },
   "outputs": [],
   "source": [
    "county_map_matrix = np.zeros((len(regions), len(counties)))\n",
    "region_pop_matrix = [0] * len(regions)\n",
    "\n",
    "for i, r in index_to_region.items():\n",
    "    \n",
    "    for fips in regions_to_counties[r]:\n",
    "        if fips not in county_to_index:\n",
    "            continue\n",
    "        county_map_matrix[i][county_to_index[fips]] = 1\n",
    "        region_pop_matrix[i] += fips_to_pop[fips]"
   ]
  },
  {
   "cell_type": "code",
   "execution_count": 28,
   "metadata": {
    "collapsed": true
   },
   "outputs": [],
   "source": [
    "np.savetxt('data_processed/county_map.txt', county_map_matrix)\n",
    "np.savetxt('data_processed/region_pops.txt', region_pop_matrix)"
   ]
  },
  {
   "cell_type": "code",
   "execution_count": 29,
   "metadata": {
    "collapsed": false
   },
   "outputs": [
    {
     "name": "stdout",
     "output_type": "stream",
     "text": [
      "(9, 82)\n"
     ]
    }
   ],
   "source": [
    "print(county_map_matrix.shape)"
   ]
  },
  {
   "cell_type": "markdown",
   "metadata": {},
   "source": [
    "#### Step 7. Construct correlation model's multivariate normal covariance matrix.\n",
    "\n",
    "Begin by assuming the time series model, so we have a single covariance matrix of size $n$ by $n$ (where $n$ is the number of counties).\n",
    "\n",
    "We construct\n",
    "$$\\Sigma^{-1} = \\tau_1 (D_w - W)$$\n",
    "Where $\\tau_1 \\sim \\mbox{Gamma}(3, 0.1)$.\n",
    "\n",
    "Therefore the output from this step is a matrix\n",
    "$$\\tilde{\\Sigma} = (D_w - W)^{-1}$$\n",
    "\n",
    "Where $W$ is a symmetric matrix:\n",
    "$$W_{i,j} = \\begin{cases} 1 & \\mbox{if } i \\mbox{ neighbors } j\\\\ 0 & \\mbox{otherwise} \\end{cases}$$\n",
    "And $Dw$ is a diagonal matrix:\n",
    "$$Dw_{i,i} = \\sum_j W_{i,j}$$\n",
    "\n",
    "And in the BLOG model we construct\n",
    "$$\\Sigma = \\frac{1}{\\tau_1}\\tilde{\\Sigma}$$\n",
    "\n",
    "*Todo*: need to look at adjancency of each county."
   ]
  },
  {
   "cell_type": "code",
   "execution_count": 165,
   "metadata": {
    "collapsed": false
   },
   "outputs": [],
   "source": [
    "W = np.zeros(((len(counties), len(counties))))"
   ]
  },
  {
   "cell_type": "code",
   "execution_count": 166,
   "metadata": {
    "collapsed": false
   },
   "outputs": [],
   "source": [
    "for blob in county_adjacency.values():\n",
    "    \n",
    "    fips = blob[1]\n",
    "    neighbors = blob[2].values()\n",
    "    \n",
    "    if fips not in county_to_index:\n",
    "        continue\n",
    "        \n",
    "    i = county_to_index[fips]\n",
    "    for n in neighbors:\n",
    "        \n",
    "        if not n in county_to_index:\n",
    "            continue\n",
    "        \n",
    "        j = county_to_index[n]\n",
    "        W[i][j] = 1\n",
    "        W[j][i] = 1"
   ]
  },
  {
   "cell_type": "code",
   "execution_count": 167,
   "metadata": {
    "collapsed": false
   },
   "outputs": [],
   "source": [
    "D = np.zeros(((len(counties), len(counties))))"
   ]
  },
  {
   "cell_type": "code",
   "execution_count": 168,
   "metadata": {
    "collapsed": false
   },
   "outputs": [],
   "source": [
    "for i in range(len(counties)):\n",
    "    \n",
    "    val = np.sum(W[i,:])\n",
    "    D[i,i] = val"
   ]
  },
  {
   "cell_type": "code",
   "execution_count": 189,
   "metadata": {
    "collapsed": false
   },
   "outputs": [
    {
     "data": {
      "text/plain": [
       "array([[ 4., -1.,  0., ...,  0.,  0.,  0.],\n",
       "       [-1.,  5.,  0., ...,  0.,  0.,  0.],\n",
       "       [ 0.,  0.,  4., ...,  0.,  0.,  0.],\n",
       "       ..., \n",
       "       [ 0.,  0.,  0., ...,  3.,  0.,  0.],\n",
       "       [ 0.,  0.,  0., ...,  0.,  5.,  0.],\n",
       "       [ 0.,  0.,  0., ...,  0.,  0.,  6.]])"
      ]
     },
     "execution_count": 189,
     "metadata": {},
     "output_type": "execute_result"
    }
   ],
   "source": [
    "D-W"
   ]
  },
  {
   "cell_type": "code",
   "execution_count": 197,
   "metadata": {
    "collapsed": false
   },
   "outputs": [
    {
     "data": {
      "text/plain": [
       "array([[ 4., -1.,  0., ...,  0.,  0.,  0.],\n",
       "       [-1.,  5.,  0., ...,  0.,  0.,  0.],\n",
       "       [ 0.,  0.,  4., ...,  0.,  0.,  0.],\n",
       "       ..., \n",
       "       [ 0.,  0.,  0., ...,  3.,  0.,  0.],\n",
       "       [ 0.,  0.,  0., ...,  0.,  5.,  0.],\n",
       "       [ 0.,  0.,  0., ...,  0.,  0.,  6.]])"
      ]
     },
     "execution_count": 197,
     "metadata": {},
     "output_type": "execute_result"
    }
   ],
   "source": [
    "D-W"
   ]
  },
  {
   "cell_type": "code",
   "execution_count": 192,
   "metadata": {
    "collapsed": false
   },
   "outputs": [
    {
     "data": {
      "text/plain": [
       "array([[ 0.875  ,  0.0625 , -0.15625, ..., -0.0625 ,  0.03125,  0.25   ],\n",
       "       [-0.25   ,  0.96875, -0.1875 , ..., -0.125  ,  0.03125,  0.25   ],\n",
       "       [-0.0625 , -0.03125,  0.9375 , ..., -0.125  ,  0.03125,  0.1875 ],\n",
       "       ..., \n",
       "       [-0.0625 , -0.03125, -0.15625, ...,  0.84375, -0.03125,  0.375  ],\n",
       "       [-0.125  ,  0.     , -0.125  , ..., -0.0625 ,  0.875  ,  0.     ],\n",
       "       [-0.1875 ,  0.     ,  0.     , ...,  0.     ,  0.03125,  1.15625]])"
      ]
     },
     "execution_count": 192,
     "metadata": {},
     "output_type": "execute_result"
    }
   ],
   "source": [
    "np.dot(np.linalg.inv(D-W),(D-W))"
   ]
  },
  {
   "cell_type": "code",
   "execution_count": 194,
   "metadata": {
    "collapsed": false
   },
   "outputs": [],
   "source": [
    "identity = np.eye(len(counties))"
   ]
  },
  {
   "cell_type": "code",
   "execution_count": 195,
   "metadata": {
    "collapsed": false
   },
   "outputs": [],
   "source": [
    "np.savetxt('data_processed/corr_cov.txt', identity)"
   ]
  },
  {
   "cell_type": "markdown",
   "metadata": {
    "collapsed": true
   },
   "source": [
    "#### Step 8.  Write observations.\n",
    "\n",
    "We ignore any entries that are NaN in the training data."
   ]
  },
  {
   "cell_type": "code",
   "execution_count": 161,
   "metadata": {
    "collapsed": false
   },
   "outputs": [],
   "source": [
    "obs_file = open('flu_spread_obs.blog', 'w')"
   ]
  },
  {
   "cell_type": "code",
   "execution_count": 162,
   "metadata": {
    "collapsed": false
   },
   "outputs": [],
   "source": [
    "for i, row in ili_data.iterrows():\n",
    "    \n",
    "    for j, region in index_to_region.items():\n",
    "\n",
    "        if pd.isnull(row[region]):\n",
    "            continue\n",
    "            \n",
    "        rate = float(row[region].strip('%')) / 100\n",
    "\n",
    "        obs_file.write('obs region_rate(regions[%d], @%d) = %0.4f;\\n' % (j, i, rate))"
   ]
  },
  {
   "cell_type": "markdown",
   "metadata": {
    "collapsed": true
   },
   "source": [
    "#### Step 9. Write queries.\n",
    "\n",
    "Query for every county at every timestep."
   ]
  },
  {
   "cell_type": "code",
   "execution_count": 163,
   "metadata": {
    "collapsed": true
   },
   "outputs": [],
   "source": [
    "queries_file = open('flu_spread_queries.blog', 'w')"
   ]
  },
  {
   "cell_type": "code",
   "execution_count": 164,
   "metadata": {
    "collapsed": false
   },
   "outputs": [],
   "source": [
    "for j, _ in enumerate(dates):\n",
    "    for i, county in index_to_county.items():\n",
    "        \n",
    "        queries_file.write('query county_rate(counties[%d], @%d);\\n' % (i, j))"
   ]
  },
  {
   "cell_type": "code",
   "execution_count": null,
   "metadata": {
    "collapsed": true
   },
   "outputs": [],
   "source": []
  }
 ],
 "metadata": {
  "kernelspec": {
   "display_name": "Python 3",
   "language": "python",
   "name": "python3"
  },
  "language_info": {
   "codemirror_mode": {
    "name": "ipython",
    "version": 3
   },
   "file_extension": ".py",
   "mimetype": "text/x-python",
   "name": "python",
   "nbconvert_exporter": "python",
   "pygments_lexer": "ipython3",
   "version": "3.5.1"
  }
 },
 "nbformat": 4,
 "nbformat_minor": 0
}
