{
 "cells": [
  {
   "cell_type": "code",
   "execution_count": 1,
   "metadata": {
    "collapsed": false
   },
   "outputs": [],
   "source": [
    "import csv\n",
    "import json\n",
    "import numpy as np\n",
    "import pickle\n",
    "import re\n",
    "import sys\n",
    "import matplotlib.pyplot as plt\n",
    "from collections import defaultdict"
   ]
  },
  {
   "cell_type": "code",
   "execution_count": 2,
   "metadata": {
    "collapsed": true
   },
   "outputs": [],
   "source": [
    "def is_kernel():\n",
    "    if 'IPython' not in sys.modules:\n",
    "        return False\n",
    "    from IPython import get_ipython\n",
    "    return getattr(get_ipython(), 'kernel', None) is not None"
   ]
  },
  {
   "cell_type": "code",
   "execution_count": 3,
   "metadata": {
    "collapsed": false
   },
   "outputs": [],
   "source": [
    "if not is_kernel():\n",
    "    if len(sys.argv) <= 1:\n",
    "        print(\"Need to specify input size.\")\n",
    "        sys.exit()\n",
    "    INPUT_SIZE = sys.argv[1]\n",
    "else:\n",
    "    INPUT_SIZE = \"Small\""
   ]
  },
  {
   "cell_type": "markdown",
   "metadata": {},
   "source": [
    "#### Parse out the county-level flu rates."
   ]
  },
  {
   "cell_type": "code",
   "execution_count": 54,
   "metadata": {
    "collapsed": false
   },
   "outputs": [],
   "source": [
    "OUTPUT_FILE = \"out/output_%s.txt\" % INPUT_SIZE.lower()"
   ]
  },
  {
   "cell_type": "code",
   "execution_count": 55,
   "metadata": {
    "collapsed": false
   },
   "outputs": [],
   "source": [
    "pos_pattern = r\"query : logit\\(County\\[(\\d+)\\], Week\\[(\\d+)\\]\\)\\n{2}Mean = (\\d+\\.\\d+)\\s\"\n",
    "neg_pattern = r\"query : logit\\(County\\[(\\d+)\\], Week\\[(\\d+)\\]\\)\\n{2}Mean = -(\\d+\\.\\d+)\\s\"\n",
    "\n",
    "with open(OUTPUT_FILE, \"r\") as output_file:\n",
    "    pos_searches = re.findall(pos_pattern, output_file.read())\n",
    "    output_file.seek(0)\n",
    "    neg_searches = re.findall(neg_pattern, output_file.read())"
   ]
  },
  {
   "cell_type": "code",
   "execution_count": 56,
   "metadata": {
    "collapsed": true
   },
   "outputs": [],
   "source": [
    "predictions = {}\n",
    "for q in pos_searches:\n",
    "    predictions[int(q[0]), int(q[1])] = 1.0 * float(q[2])\n",
    "for q in neg_searches:\n",
    "    predictions[int(q[0]), int(q[1])] = -1.0 * float(q[2])"
   ]
  },
  {
   "cell_type": "code",
   "execution_count": 57,
   "metadata": {
    "collapsed": true
   },
   "outputs": [],
   "source": [
    "for k, v in predictions.items():\n",
    "  v = 1.0 / (1.0 + np.exp(-1.0 * v))\n",
    "  if v < 0:\n",
    "    predictions[k] = 0\n",
    "  if v > 0.5:\n",
    "    predictions[k] = 0\n",
    "  else:\n",
    "    predictions[k] = v"
   ]
  },
  {
   "cell_type": "code",
   "execution_count": 58,
   "metadata": {
    "collapsed": false
   },
   "outputs": [],
   "source": [
    "with open(\"log/index_to_county.pickle\", \"rb\") as picklefile:\n",
    "    index_to_county = pickle.load(picklefile)"
   ]
  },
  {
   "cell_type": "code",
   "execution_count": 59,
   "metadata": {
    "collapsed": true
   },
   "outputs": [],
   "source": [
    "with open(\"log/dates.pickle\", \"rb\") as picklefile:\n",
    "    dates = pickle.load(picklefile)"
   ]
  },
  {
   "cell_type": "code",
   "execution_count": 60,
   "metadata": {
    "collapsed": true
   },
   "outputs": [],
   "source": [
    "with open(\"log/index_to_region.pickle\", \"rb\") as picklefile:\n",
    "    index_to_region = pickle.load(picklefile)"
   ]
  },
  {
   "cell_type": "markdown",
   "metadata": {},
   "source": [
    "#### Write output JSON."
   ]
  },
  {
   "cell_type": "code",
   "execution_count": 61,
   "metadata": {
    "collapsed": false
   },
   "outputs": [],
   "source": [
    "output_dict = {}"
   ]
  },
  {
   "cell_type": "code",
   "execution_count": 62,
   "metadata": {
    "collapsed": false
   },
   "outputs": [],
   "source": [
    "for (i, fips) in index_to_county.items():\n",
    "    county_dict = {\n",
    "        \"ILI percentage %\": {}\n",
    "    }\n",
    "    for j, t in enumerate(dates):\n",
    "        county_dict[\"ILI percentage %\"][t] = predictions[(i,j)] * 100.0\n",
    "    output_dict[fips] = county_dict"
   ]
  },
  {
   "cell_type": "code",
   "execution_count": 63,
   "metadata": {
    "collapsed": false
   },
   "outputs": [],
   "source": [
    "with open(\"out/%s/CountyWeeklyILI.json\" % INPUT_SIZE, \"w\") as jsonfile:\n",
    "    jsonfile.write(json.dumps(output_dict))"
   ]
  },
  {
   "cell_type": "markdown",
   "metadata": {},
   "source": [
    "#### Evaluate"
   ]
  },
  {
   "cell_type": "code",
   "execution_count": 64,
   "metadata": {
    "collapsed": true
   },
   "outputs": [],
   "source": [
    "eval_data = []"
   ]
  },
  {
   "cell_type": "code",
   "execution_count": 65,
   "metadata": {
    "collapsed": true
   },
   "outputs": [],
   "source": [
    "with open(\"data/%s/eval/Flu_ILI_TRUTH.csv\" % INPUT_SIZE, \"r\") as csvfile:\n",
    "    reader = csv.DictReader(csvfile)\n",
    "    for row in reader:\n",
    "        eval_data.append(row)"
   ]
  },
  {
   "cell_type": "code",
   "execution_count": 66,
   "metadata": {
    "collapsed": false
   },
   "outputs": [],
   "source": [
    "county_map_matrix = np.loadtxt(\"./data_processed/county_map.txt\")\n",
    "region_pop_matrix = np.loadtxt(\"./data_processed/region_pops.txt\")"
   ]
  },
  {
   "cell_type": "code",
   "execution_count": 67,
   "metadata": {
    "collapsed": false
   },
   "outputs": [
    {
     "name": "stdout",
     "output_type": "stream",
     "text": [
      "(9, 82)\n",
      "(9,)\n"
     ]
    }
   ],
   "source": [
    "print(county_map_matrix.shape)\n",
    "print(region_pop_matrix.shape)"
   ]
  },
  {
   "cell_type": "markdown",
   "metadata": {},
   "source": [
    "**Graphs**"
   ]
  },
  {
   "cell_type": "code",
   "execution_count": 68,
   "metadata": {
    "collapsed": false
   },
   "outputs": [],
   "source": [
    "history = []\n",
    "county_level_history = []"
   ]
  },
  {
   "cell_type": "code",
   "execution_count": 69,
   "metadata": {
    "collapsed": true
   },
   "outputs": [],
   "source": [
    "loss = 0.0"
   ]
  },
  {
   "cell_type": "code",
   "execution_count": 70,
   "metadata": {
    "collapsed": false
   },
   "outputs": [],
   "source": [
    "for t, date in enumerate(dates):\n",
    "    county_vector = [predictions[(i, t)] for i in index_to_county.keys()]\n",
    "    region_rates = np.dot(county_map_matrix, county_vector) / np.sum(county_map_matrix, axis = 1)\n",
    "    history.append(region_rates)\n",
    "    county_level_history.append(county_vector)\n",
    "    for i, predicted_rate in enumerate(region_rates):\n",
    "        if eval_data[t][index_to_region[i]] != 'NaN':\n",
    "            loss += region_pop_matrix[i] * (predicted_rate * 100 - float(eval_data[t][index_to_region[i]][0:-1]))**2"
   ]
  },
  {
   "cell_type": "code",
   "execution_count": 71,
   "metadata": {
    "collapsed": false
   },
   "outputs": [
    {
     "name": "stdout",
     "output_type": "stream",
     "text": [
      "Total loss: 6317921272.66\n"
     ]
    }
   ],
   "source": [
    "print(\"Total loss:\", loss)"
   ]
  },
  {
   "cell_type": "code",
   "execution_count": 72,
   "metadata": {
    "collapsed": false
   },
   "outputs": [
    {
     "name": "stdout",
     "output_type": "stream",
     "text": [
      "MSE: 20.486781238\n"
     ]
    }
   ],
   "source": [
    "print(\"MSE:\", loss / np.sum(region_pop_matrix) / np.sum(len(dates)))"
   ]
  },
  {
   "cell_type": "code",
   "execution_count": 73,
   "metadata": {
    "collapsed": false
   },
   "outputs": [
    {
     "name": "stdout",
     "output_type": "stream",
     "text": [
      "RMSE: 4.52623256561\n"
     ]
    }
   ],
   "source": [
    "print(\"RMSE:\", (loss / np.sum(region_pop_matrix) / np.sum(len(dates)))**0.5)"
   ]
  },
  {
   "cell_type": "code",
   "execution_count": 74,
   "metadata": {
    "collapsed": false
   },
   "outputs": [],
   "source": [
    "plt.figure()\n",
    "plt.plot(np.array(history)[:50,:])\n",
    "plt.savefig(\"out/%s/output.png\" % INPUT_SIZE)"
   ]
  },
  {
   "cell_type": "code",
   "execution_count": 75,
   "metadata": {
    "collapsed": true
   },
   "outputs": [],
   "source": [
    "obs = np.loadtxt('../cp7/data_processed/obs.txt')"
   ]
  },
  {
   "cell_type": "code",
   "execution_count": 76,
   "metadata": {
    "collapsed": false
   },
   "outputs": [],
   "source": [
    "plt.figure()\n",
    "plt.plot(obs[:50,:])\n",
    "plt.savefig(\"out/%s/ref.png\" % INPUT_SIZE)"
   ]
  },
  {
   "cell_type": "code",
   "execution_count": null,
   "metadata": {
    "collapsed": true
   },
   "outputs": [],
   "source": []
  }
 ],
 "metadata": {
  "kernelspec": {
   "display_name": "Python 3",
   "language": "python",
   "name": "python3"
  },
  "language_info": {
   "codemirror_mode": {
    "name": "ipython",
    "version": 3
   },
   "file_extension": ".py",
   "mimetype": "text/x-python",
   "name": "python",
   "nbconvert_exporter": "python",
   "pygments_lexer": "ipython3",
   "version": "3.5.2"
  },
  "widgets": {
   "state": {},
   "version": "1.1.0"
  }
 },
 "nbformat": 4,
 "nbformat_minor": 0
}
