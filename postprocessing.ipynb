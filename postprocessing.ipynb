{
 "cells": [
  {
   "cell_type": "code",
   "execution_count": 184,
   "metadata": {
    "collapsed": false
   },
   "outputs": [],
   "source": [
    "import csv\n",
    "import json\n",
    "import numpy as np\n",
    "import pickle\n",
    "import re\n",
    "import sys\n",
    "from collections import defaultdict"
   ]
  },
  {
   "cell_type": "code",
   "execution_count": 185,
   "metadata": {
    "collapsed": true
   },
   "outputs": [],
   "source": [
    "def is_kernel():\n",
    "    if 'IPython' not in sys.modules:\n",
    "        return False\n",
    "    from IPython import get_ipython\n",
    "    return getattr(get_ipython(), 'kernel', None) is not None"
   ]
  },
  {
   "cell_type": "code",
   "execution_count": 186,
   "metadata": {
    "collapsed": false
   },
   "outputs": [],
   "source": [
    "if not is_kernel():\n",
    "    if len(sys.argv) <= 1:\n",
    "        print(\"Need to specify input size.\")\n",
    "        sys.exit()\n",
    "    INPUT_SIZE = sys.argv[1]\n",
    "else:\n",
    "    INPUT_SIZE = \"Small\""
   ]
  },
  {
   "cell_type": "markdown",
   "metadata": {},
   "source": [
    "#### Parse out the county-level flu rates."
   ]
  },
  {
   "cell_type": "code",
   "execution_count": 187,
   "metadata": {
    "collapsed": true
   },
   "outputs": [],
   "source": [
    "OUTPUT_FILE = \"out/output_%s.txt\" % INPUT_SIZE.lower()"
   ]
  },
  {
   "cell_type": "code",
   "execution_count": 197,
   "metadata": {
    "collapsed": true
   },
   "outputs": [],
   "source": [
    "pos_pattern = r\"query : county_rate\\(County\\[(\\d+)\\], Week\\[(\\d+)\\]\\)\\n{2}Mean = (\\d+\\.\\d+)\\s\"\n",
    "neg_pattern = r\"query : county_rate\\(County\\[(\\d+)\\], Week\\[(\\d+)\\]\\)\\n{2}Mean = -(\\d+\\.\\d+)\\s\"\n",
    "\n",
    "with open(OUTPUT_FILE, \"r\") as output_file:\n",
    "    pos_searches = re.findall(pos_pattern, output_file.read())\n",
    "    output_file.seek(0)\n",
    "    neg_searches = re.findall(neg_pattern, output_file.read())\n",
    "    \n",
    "searches = pos_searches + neg_searches"
   ]
  },
  {
   "cell_type": "code",
   "execution_count": 199,
   "metadata": {
    "collapsed": true
   },
   "outputs": [],
   "source": [
    "predictions = {}\n",
    "for q in searches:\n",
    "    predictions[int(q[0]), int(q[1])] = float(q[2])"
   ]
  },
  {
   "cell_type": "code",
   "execution_count": 200,
   "metadata": {
    "collapsed": true
   },
   "outputs": [],
   "source": [
    "for k, v in predictions.items():\n",
    "    if v < 0:\n",
    "        predictions[k] = 0"
   ]
  },
  {
   "cell_type": "code",
   "execution_count": 201,
   "metadata": {
    "collapsed": false
   },
   "outputs": [],
   "source": [
    "with open(\"log/index_to_county.pickle\", \"rb\") as picklefile:\n",
    "    index_to_county = pickle.load(picklefile)"
   ]
  },
  {
   "cell_type": "code",
   "execution_count": 202,
   "metadata": {
    "collapsed": true
   },
   "outputs": [],
   "source": [
    "with open(\"log/dates.pickle\", \"rb\") as picklefile:\n",
    "    dates = pickle.load(picklefile)"
   ]
  },
  {
   "cell_type": "code",
   "execution_count": 203,
   "metadata": {
    "collapsed": true
   },
   "outputs": [],
   "source": [
    "with open(\"log/index_to_region.pickle\", \"rb\") as picklefile:\n",
    "    index_to_region = pickle.load(picklefile)"
   ]
  },
  {
   "cell_type": "markdown",
   "metadata": {},
   "source": [
    "#### Write output JSON."
   ]
  },
  {
   "cell_type": "code",
   "execution_count": 204,
   "metadata": {
    "collapsed": false
   },
   "outputs": [],
   "source": [
    "output_dict = {}"
   ]
  },
  {
   "cell_type": "code",
   "execution_count": 205,
   "metadata": {
    "collapsed": false
   },
   "outputs": [],
   "source": [
    "for (i, fips) in index_to_county.items():\n",
    "    county_dict = {\n",
    "        \"ILI percentage %\": {}\n",
    "    }\n",
    "    for j, t in enumerate(dates):\n",
    "        county_dict[\"ILI percentage %\"][t] = predictions[(i,j)] * 100.0\n",
    "    output_dict[fips] = county_dict"
   ]
  },
  {
   "cell_type": "code",
   "execution_count": 206,
   "metadata": {
    "collapsed": false
   },
   "outputs": [],
   "source": [
    "with open(\"out/%s/CountyWeeklyILI.json\" % INPUT_SIZE, \"w\") as jsonfile:\n",
    "    jsonfile.write(json.dumps(output_dict))"
   ]
  },
  {
   "cell_type": "markdown",
   "metadata": {},
   "source": [
    "#### Evaluate"
   ]
  },
  {
   "cell_type": "code",
   "execution_count": 207,
   "metadata": {
    "collapsed": true
   },
   "outputs": [],
   "source": [
    "eval_data = []"
   ]
  },
  {
   "cell_type": "code",
   "execution_count": 208,
   "metadata": {
    "collapsed": true
   },
   "outputs": [],
   "source": [
    "with open(\"data/%s/eval/Flu_ILI_TRUTH.csv\" % INPUT_SIZE, \"r\") as csvfile:\n",
    "    reader = csv.DictReader(csvfile)\n",
    "    for row in reader:\n",
    "        eval_data.append(row)"
   ]
  },
  {
   "cell_type": "code",
   "execution_count": 210,
   "metadata": {
    "collapsed": false
   },
   "outputs": [],
   "source": [
    "county_map_matrix = np.loadtxt(\"./data_processed/county_map.txt\")\n",
    "region_pop_matrix = np.loadtxt(\"./data_processed/region_pops.txt\")"
   ]
  },
  {
   "cell_type": "code",
   "execution_count": 211,
   "metadata": {
    "collapsed": false
   },
   "outputs": [
    {
     "name": "stdout",
     "output_type": "stream",
     "text": [
      "(9, 82)\n",
      "(9,)\n"
     ]
    }
   ],
   "source": [
    "print(county_map_matrix.shape)\n",
    "print(region_pop_matrix.shape)"
   ]
  },
  {
   "cell_type": "code",
   "execution_count": 212,
   "metadata": {
    "collapsed": true
   },
   "outputs": [],
   "source": [
    "loss = 0.0"
   ]
  },
  {
   "cell_type": "code",
   "execution_count": 213,
   "metadata": {
    "collapsed": false
   },
   "outputs": [],
   "source": [
    "for t, date in enumerate(dates):\n",
    "    county_vector = [predictions[(i, t)] for i in index_to_county.keys()]\n",
    "    region_rates = np.dot(county_map_matrix, county_vector) / np.sum(county_map_matrix, axis = 1)\n",
    "    \n",
    "    for i, predicted_rate in enumerate(region_rates):\n",
    "        if eval_data[t][index_to_region[i]] != 'NaN':\n",
    "            loss += region_pop_matrix[i] * (predicted_rate * 100 - float(eval_data[t][index_to_region[i]][0:-1]))**2"
   ]
  },
  {
   "cell_type": "code",
   "execution_count": 214,
   "metadata": {
    "collapsed": false
   },
   "outputs": [
    {
     "name": "stdout",
     "output_type": "stream",
     "text": [
      "Total loss: 6437006994.44\n"
     ]
    }
   ],
   "source": [
    "print(\"Total loss:\", loss)"
   ]
  },
  {
   "cell_type": "code",
   "execution_count": 215,
   "metadata": {
    "collapsed": false
   },
   "outputs": [
    {
     "name": "stdout",
     "output_type": "stream",
     "text": [
      "MSE: 20.8729340603\n"
     ]
    }
   ],
   "source": [
    "print(\"MSE:\", loss / np.sum(region_pop_matrix) / np.sum(len(dates)))"
   ]
  },
  {
   "cell_type": "code",
   "execution_count": 220,
   "metadata": {
    "collapsed": false
   },
   "outputs": [
    {
     "name": "stdout",
     "output_type": "stream",
     "text": [
      "RMSE: 4.56869062865\n"
     ]
    }
   ],
   "source": [
    "print(\"RMSE:\", (loss / np.sum(region_pop_matrix) / np.sum(len(dates)))**0.5)"
   ]
  },
  {
   "cell_type": "code",
   "execution_count": null,
   "metadata": {
    "collapsed": true
   },
   "outputs": [],
   "source": []
  }
 ],
 "metadata": {
  "kernelspec": {
   "display_name": "Python 3",
   "language": "python",
   "name": "python3"
  },
  "language_info": {
   "codemirror_mode": {
    "name": "ipython",
    "version": 3
   },
   "file_extension": ".py",
   "mimetype": "text/x-python",
   "name": "python",
   "nbconvert_exporter": "python",
   "pygments_lexer": "ipython3",
   "version": "3.5.2"
  }
 },
 "nbformat": 4,
 "nbformat_minor": 0
}
