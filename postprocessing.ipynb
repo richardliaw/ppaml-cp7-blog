{
 "cells": [
  {
   "cell_type": "code",
   "execution_count": 73,
   "metadata": {
    "collapsed": false
   },
   "outputs": [],
   "source": [
    "import json\n",
    "import pickle\n",
    "import re\n",
    "import sys\n",
    "from collections import defaultdict"
   ]
  },
  {
   "cell_type": "code",
   "execution_count": 19,
   "metadata": {
    "collapsed": true
   },
   "outputs": [],
   "source": [
    "def is_kernel():\n",
    "    if 'IPython' not in sys.modules:\n",
    "        return False\n",
    "    from IPython import get_ipython\n",
    "    return getattr(get_ipython(), 'kernel', None) is not None"
   ]
  },
  {
   "cell_type": "code",
   "execution_count": 20,
   "metadata": {
    "collapsed": false
   },
   "outputs": [],
   "source": [
    "if not is_kernel():\n",
    "    if len(sys.argv) <= 1:\n",
    "        print(\"Need to specify output file.\")\n",
    "        sys.exit()\n",
    "    OUTPUT_FILE = sys.argv[1]\n",
    "else:\n",
    "    OUTPUT_FILE = 'out/output_small.txt'"
   ]
  },
  {
   "cell_type": "markdown",
   "metadata": {},
   "source": [
    "#### Parse out the county-level flu rates."
   ]
  },
  {
   "cell_type": "code",
   "execution_count": 59,
   "metadata": {
    "collapsed": true
   },
   "outputs": [],
   "source": [
    "pattern = r\"query : county_rate\\(County\\[(\\d+)\\], Week\\[(\\d+)\\]\\)\\n{2}Mean = (\\d+\\.\\d+)\\s\"\n",
    "\n",
    "with open(OUTPUT_FILE, \"r\") as output_file:\n",
    "    searches = re.findall(pattern, output_file.read())"
   ]
  },
  {
   "cell_type": "code",
   "execution_count": 60,
   "metadata": {
    "collapsed": true
   },
   "outputs": [],
   "source": [
    "predictions = {}\n",
    "for q in searches:\n",
    "    predictions[int(q[0]), int(q[1])] = float(q[2])"
   ]
  },
  {
   "cell_type": "code",
   "execution_count": 61,
   "metadata": {
    "collapsed": false
   },
   "outputs": [],
   "source": [
    "with open(\"log/index_to_county.pickle\", \"rb\") as picklefile:\n",
    "    index_to_county = pickle.load(picklefile)"
   ]
  },
  {
   "cell_type": "code",
   "execution_count": 62,
   "metadata": {
    "collapsed": true
   },
   "outputs": [],
   "source": [
    "with open(\"log/dates.pickle\", \"rb\") as picklefile:\n",
    "    dates = pickle.load(picklefile)"
   ]
  },
  {
   "cell_type": "markdown",
   "metadata": {},
   "source": [
    "#### Write output JSON."
   ]
  },
  {
   "cell_type": "code",
   "execution_count": 70,
   "metadata": {
    "collapsed": false
   },
   "outputs": [],
   "source": [
    "output_dict = {}"
   ]
  },
  {
   "cell_type": "code",
   "execution_count": 71,
   "metadata": {
    "collapsed": false
   },
   "outputs": [],
   "source": [
    "for (i, fips) in index_to_county.items():\n",
    "    county_dict = {\n",
    "        \"ILI percentage %\": {}\n",
    "    }\n",
    "    for j, t in enumerate(dates):\n",
    "        county_dict[\"ILI percentage %\"][t] = predictions[(i,j)] * 100.0\n",
    "    output_dict[fips] = county_dict"
   ]
  },
  {
   "cell_type": "code",
   "execution_count": 77,
   "metadata": {
    "collapsed": false
   },
   "outputs": [],
   "source": [
    "with open(\"out/CountyWeeklyILI.json\", \"w\") as jsonfile:\n",
    "    jsonfile.write(json.dumps(output_dict))"
   ]
  },
  {
   "cell_type": "code",
   "execution_count": null,
   "metadata": {
    "collapsed": true
   },
   "outputs": [],
   "source": []
  }
 ],
 "metadata": {
  "kernelspec": {
   "display_name": "Python 3",
   "language": "python",
   "name": "python3"
  },
  "language_info": {
   "codemirror_mode": {
    "name": "ipython",
    "version": 3
   },
   "file_extension": ".py",
   "mimetype": "text/x-python",
   "name": "python",
   "nbconvert_exporter": "python",
   "pygments_lexer": "ipython3",
   "version": "3.5.2"
  }
 },
 "nbformat": 4,
 "nbformat_minor": 0
}
